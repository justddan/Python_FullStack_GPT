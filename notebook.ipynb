{
 "cells": [
  {
   "cell_type": "code",
   "execution_count": 11,
   "metadata": {},
   "outputs": [],
   "source": [
    "from langchain.chat_models import ChatOpenAI\n",
    "from langchain.prompts import ChatPromptTemplate\n",
    "from langchain.callbacks import StreamingStdOutCallbackHandler\n",
    "\n",
    "chat = ChatOpenAI(\n",
    "    temperature=0.1, \n",
    "    streaming=True,\n",
    "    callbacks=[StreamingStdOutCallbackHandler],\n",
    ")\n",
    "\n",
    "chef_prompt = ChatPromptTemplate.from_messages([\n",
    "    (\"system\",\"You are a world-class international chef. You create easy to follow recipes for any type of cuisine with easy to find ingredients.\"),\n",
    "    (\"human\",\"I want to cook {cuisine} food.\"),\n",
    "])\n",
    "\n",
    "chef_chain = chef_prompt | chat"
   ]
  },
  {
   "cell_type": "code",
   "execution_count": 12,
   "metadata": {},
   "outputs": [
    {
     "data": {
      "text/plain": [
       "AIMessage(content=\"Great choice! Butter Chicken is a delicious Indian dish that can easily be made vegetarian. Here's a modified version of the recipe using alternative ingredients:\\n\\nIngredients:\\n- 500g paneer (Indian cottage cheese), cut into bite-sized pieces\\n- 2 tablespoons butter\\n- 1 onion, finely chopped\\n- 2 cloves of garlic, minced\\n- 1-inch piece of ginger, grated\\n- 2 teaspoons garam masala\\n- 1 teaspoon turmeric powder\\n- 1 teaspoon chili powder (adjust according to your spice preference)\\n- 1 cup tomato puree\\n- 1/2 cup heavy cream (you can use coconut cream as a dairy-free alternative)\\n- Salt, to taste\\n- Fresh cilantro, for garnish\\n\\nInstructions:\\n1. Heat the butter in a large pan over medium heat. Add the chopped onion and sauté until golden brown.\\n2. Add the minced garlic and grated ginger to the pan. Cook for another minute until fragrant.\\n3. In a small bowl, mix together the garam masala, turmeric powder, and chili powder. Add this spice mixture to the pan and cook for a minute to release the flavors.\\n4. Add the paneer pieces to the pan and cook until they are lightly browned on all sides.\\n5. Pour in the tomato puree and stir well to combine. Reduce the heat to low, cover the pan, and let it simmer for about 15-20 minutes, or until the paneer is heated through.\\n6. Stir in the heavy cream (or coconut cream) and season with salt to taste. Simmer for an additional 5 minutes to allow the flavors to meld together.\\n7. Garnish with fresh cilantro and serve hot with steamed rice or naan bread.\\n\\nBy replacing the chicken with paneer, a popular vegetarian protein in Indian cuisine, you can still enjoy the rich flavors of Butter Chicken. The paneer will absorb the delicious sauce and provide a satisfying texture.\")"
      ]
     },
     "execution_count": 12,
     "metadata": {},
     "output_type": "execute_result"
    }
   ],
   "source": [
    "veg_chef_prompt = ChatPromptTemplate.from_messages([\n",
    "    (\"system\",\"You are vegetarian chef specialized on making traditional recipies vegetarian. You find alternative ingredients and explain their preparation. You don't radically modify the recipe. If there is no alternative for a food just say you don't know how to replace it.\"),\n",
    "    (\"human\", \"{recipe}\"),\n",
    "])\n",
    "\n",
    "veg_chain = veg_chef_prompt | chat\n",
    "\n",
    "final_chain = {\"recipe\":chef_chain} | veg_chain\n",
    "\n",
    "final_chain.invoke({\n",
    "    \"cuisine\": \"indian\"\n",
    "})"
   ]
  },
  {
   "cell_type": "code",
   "execution_count": null,
   "metadata": {},
   "outputs": [],
   "source": []
  }
 ],
 "metadata": {
  "kernelspec": {
   "display_name": "env",
   "language": "python",
   "name": "python3"
  },
  "language_info": {
   "codemirror_mode": {
    "name": "ipython",
    "version": 3
   },
   "file_extension": ".py",
   "mimetype": "text/x-python",
   "name": "python",
   "nbconvert_exporter": "python",
   "pygments_lexer": "ipython3",
   "version": "3.11.6"
  }
 },
 "nbformat": 4,
 "nbformat_minor": 2
}
